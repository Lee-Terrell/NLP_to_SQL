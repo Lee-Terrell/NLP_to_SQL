{
 "cells": [
  {
   "cell_type": "code",
   "execution_count": 1,
   "metadata": {},
   "outputs": [],
   "source": [
    "# import dependencies\n",
    "import os\n",
    "import openai\n",
    "import pandas as pd"
   ]
  },
  {
   "cell_type": "code",
   "execution_count": 2,
   "metadata": {},
   "outputs": [],
   "source": [
    "# Retrieve OpenAI API key from os environments\n",
    "openai.api_key = os.getenv(\"OPENAI_API_KEY\")"
   ]
  },
  {
   "attachments": {},
   "cell_type": "markdown",
   "metadata": {},
   "source": [
    "### Tabular Data Setup"
   ]
  },
  {
   "cell_type": "code",
   "execution_count": 3,
   "metadata": {},
   "outputs": [
    {
     "data": {
      "text/html": [
       "<div>\n",
       "<style scoped>\n",
       "    .dataframe tbody tr th:only-of-type {\n",
       "        vertical-align: middle;\n",
       "    }\n",
       "\n",
       "    .dataframe tbody tr th {\n",
       "        vertical-align: top;\n",
       "    }\n",
       "\n",
       "    .dataframe thead th {\n",
       "        text-align: right;\n",
       "    }\n",
       "</style>\n",
       "<table border=\"1\" class=\"dataframe\">\n",
       "  <thead>\n",
       "    <tr style=\"text-align: right;\">\n",
       "      <th></th>\n",
       "      <th>ORDERNUMBER</th>\n",
       "      <th>QUANTITYORDERED</th>\n",
       "      <th>PRICEEACH</th>\n",
       "      <th>SALES</th>\n",
       "      <th>ORDERDATE</th>\n",
       "      <th>QTR_ID</th>\n",
       "      <th>MONTH_ID</th>\n",
       "      <th>YEAR_ID</th>\n",
       "      <th>PRODUCTLINE</th>\n",
       "      <th>PHONE</th>\n",
       "      <th>ADDRESSLINE1</th>\n",
       "      <th>CITY</th>\n",
       "      <th>STATE</th>\n",
       "      <th>POSTALCODE</th>\n",
       "      <th>COUNTRY</th>\n",
       "      <th>CONTACTLASTNAME</th>\n",
       "      <th>CONTACTFIRSTNAME</th>\n",
       "    </tr>\n",
       "  </thead>\n",
       "  <tbody>\n",
       "    <tr>\n",
       "      <th>0</th>\n",
       "      <td>10107</td>\n",
       "      <td>30</td>\n",
       "      <td>95.70</td>\n",
       "      <td>2871.00</td>\n",
       "      <td>2/24/2003 0:00</td>\n",
       "      <td>1</td>\n",
       "      <td>2</td>\n",
       "      <td>2003</td>\n",
       "      <td>Motorcycles</td>\n",
       "      <td>2125557818</td>\n",
       "      <td>897 Long Airport Avenue</td>\n",
       "      <td>NYC</td>\n",
       "      <td>NY</td>\n",
       "      <td>10022</td>\n",
       "      <td>USA</td>\n",
       "      <td>Yu</td>\n",
       "      <td>Kwai</td>\n",
       "    </tr>\n",
       "    <tr>\n",
       "      <th>1</th>\n",
       "      <td>10121</td>\n",
       "      <td>34</td>\n",
       "      <td>81.35</td>\n",
       "      <td>2765.90</td>\n",
       "      <td>5/7/2003 0:00</td>\n",
       "      <td>2</td>\n",
       "      <td>5</td>\n",
       "      <td>2003</td>\n",
       "      <td>Motorcycles</td>\n",
       "      <td>26.47.1555</td>\n",
       "      <td>59 rue de l'Abbaye</td>\n",
       "      <td>Reims</td>\n",
       "      <td>NaN</td>\n",
       "      <td>51100</td>\n",
       "      <td>France</td>\n",
       "      <td>Henriot</td>\n",
       "      <td>Paul</td>\n",
       "    </tr>\n",
       "    <tr>\n",
       "      <th>2</th>\n",
       "      <td>10134</td>\n",
       "      <td>41</td>\n",
       "      <td>94.74</td>\n",
       "      <td>3884.34</td>\n",
       "      <td>7/1/2003 0:00</td>\n",
       "      <td>3</td>\n",
       "      <td>7</td>\n",
       "      <td>2003</td>\n",
       "      <td>Motorcycles</td>\n",
       "      <td>+33 1 46 62 7555</td>\n",
       "      <td>27 rue du Colonel Pierre Avia</td>\n",
       "      <td>Paris</td>\n",
       "      <td>NaN</td>\n",
       "      <td>75508</td>\n",
       "      <td>France</td>\n",
       "      <td>Da Cunha</td>\n",
       "      <td>Daniel</td>\n",
       "    </tr>\n",
       "    <tr>\n",
       "      <th>3</th>\n",
       "      <td>10145</td>\n",
       "      <td>45</td>\n",
       "      <td>83.26</td>\n",
       "      <td>3746.70</td>\n",
       "      <td>8/25/2003 0:00</td>\n",
       "      <td>3</td>\n",
       "      <td>8</td>\n",
       "      <td>2003</td>\n",
       "      <td>Motorcycles</td>\n",
       "      <td>6265557265</td>\n",
       "      <td>78934 Hillside Dr.</td>\n",
       "      <td>Pasadena</td>\n",
       "      <td>CA</td>\n",
       "      <td>90003</td>\n",
       "      <td>USA</td>\n",
       "      <td>Young</td>\n",
       "      <td>Julie</td>\n",
       "    </tr>\n",
       "    <tr>\n",
       "      <th>4</th>\n",
       "      <td>10159</td>\n",
       "      <td>49</td>\n",
       "      <td>100.00</td>\n",
       "      <td>5205.27</td>\n",
       "      <td>10/10/2003 0:00</td>\n",
       "      <td>4</td>\n",
       "      <td>10</td>\n",
       "      <td>2003</td>\n",
       "      <td>Motorcycles</td>\n",
       "      <td>6505551386</td>\n",
       "      <td>7734 Strong St.</td>\n",
       "      <td>San Francisco</td>\n",
       "      <td>CA</td>\n",
       "      <td>NaN</td>\n",
       "      <td>USA</td>\n",
       "      <td>Brown</td>\n",
       "      <td>Julie</td>\n",
       "    </tr>\n",
       "  </tbody>\n",
       "</table>\n",
       "</div>"
      ],
      "text/plain": [
       "   ORDERNUMBER  QUANTITYORDERED  PRICEEACH    SALES        ORDERDATE  QTR_ID  \\\n",
       "0        10107               30      95.70  2871.00   2/24/2003 0:00       1   \n",
       "1        10121               34      81.35  2765.90    5/7/2003 0:00       2   \n",
       "2        10134               41      94.74  3884.34    7/1/2003 0:00       3   \n",
       "3        10145               45      83.26  3746.70   8/25/2003 0:00       3   \n",
       "4        10159               49     100.00  5205.27  10/10/2003 0:00       4   \n",
       "\n",
       "   MONTH_ID  YEAR_ID  PRODUCTLINE             PHONE  \\\n",
       "0         2     2003  Motorcycles        2125557818   \n",
       "1         5     2003  Motorcycles        26.47.1555   \n",
       "2         7     2003  Motorcycles  +33 1 46 62 7555   \n",
       "3         8     2003  Motorcycles        6265557265   \n",
       "4        10     2003  Motorcycles        6505551386   \n",
       "\n",
       "                    ADDRESSLINE1           CITY STATE POSTALCODE COUNTRY  \\\n",
       "0        897 Long Airport Avenue            NYC    NY      10022     USA   \n",
       "1             59 rue de l'Abbaye          Reims   NaN      51100  France   \n",
       "2  27 rue du Colonel Pierre Avia          Paris   NaN      75508  France   \n",
       "3             78934 Hillside Dr.       Pasadena    CA      90003     USA   \n",
       "4                7734 Strong St.  San Francisco    CA        NaN     USA   \n",
       "\n",
       "  CONTACTLASTNAME CONTACTFIRSTNAME  \n",
       "0              Yu             Kwai  \n",
       "1         Henriot             Paul  \n",
       "2        Da Cunha           Daniel  \n",
       "3           Young            Julie  \n",
       "4           Brown            Julie  "
      ]
     },
     "execution_count": 3,
     "metadata": {},
     "output_type": "execute_result"
    }
   ],
   "source": [
    "# Import previously saved Kaggle sample sales data (https://www.kaggle.com/datasets/kyanyoga/sample-sales-data )\n",
    "df= pd.read_csv('data/sales_data_sample.csv')\n",
    "\n",
    "# View imported data\n",
    "df.head()"
   ]
  },
  {
   "attachments": {},
   "cell_type": "markdown",
   "metadata": {},
   "source": [
    "### Create a temporary DB in RAM"
   ]
  },
  {
   "cell_type": "code",
   "execution_count": 4,
   "metadata": {},
   "outputs": [],
   "source": [
    "from sqlalchemy import create_engine\n",
    "from sqlalchemy import text"
   ]
  },
  {
   "cell_type": "code",
   "execution_count": 5,
   "metadata": {},
   "outputs": [],
   "source": [
    "# Create sqlite DB\n",
    "temp_db = create_engine(\"sqlite:///:memory:\", echo=True) # echo will show output"
   ]
  },
  {
   "cell_type": "code",
   "execution_count": 7,
   "metadata": {},
   "outputs": [
    {
     "name": "stdout",
     "output_type": "stream",
     "text": [
      "2023-03-03 15:39:28,406 INFO sqlalchemy.engine.Engine BEGIN (implicit)\n",
      "2023-03-03 15:39:28,428 INFO sqlalchemy.engine.Engine PRAGMA main.table_info(\"Sales\")\n",
      "2023-03-03 15:39:28,447 INFO sqlalchemy.engine.Engine [raw sql] ()\n",
      "2023-03-03 15:39:28,452 INFO sqlalchemy.engine.Engine PRAGMA temp.table_info(\"Sales\")\n",
      "2023-03-03 15:39:28,453 INFO sqlalchemy.engine.Engine [raw sql] ()\n",
      "2023-03-03 15:39:28,455 INFO sqlalchemy.engine.Engine ROLLBACK\n",
      "2023-03-03 15:39:28,457 INFO sqlalchemy.engine.Engine BEGIN (implicit)\n",
      "2023-03-03 15:39:28,459 INFO sqlalchemy.engine.Engine \n",
      "CREATE TABLE \"Sales\" (\n",
      "\t\"index\" BIGINT, \n",
      "\t\"ORDERNUMBER\" BIGINT, \n",
      "\t\"QUANTITYORDERED\" BIGINT, \n",
      "\t\"PRICEEACH\" FLOAT, \n",
      "\t\"SALES\" FLOAT, \n",
      "\t\"ORDERDATE\" TEXT, \n",
      "\t\"QTR_ID\" BIGINT, \n",
      "\t\"MONTH_ID\" BIGINT, \n",
      "\t\"YEAR_ID\" BIGINT, \n",
      "\t\"PRODUCTLINE\" TEXT, \n",
      "\t\"PHONE\" TEXT, \n",
      "\t\"ADDRESSLINE1\" TEXT, \n",
      "\t\"CITY\" TEXT, \n",
      "\t\"STATE\" TEXT, \n",
      "\t\"POSTALCODE\" TEXT, \n",
      "\t\"COUNTRY\" TEXT, \n",
      "\t\"CONTACTLASTNAME\" TEXT, \n",
      "\t\"CONTACTFIRSTNAME\" TEXT\n",
      ")\n",
      "\n",
      "\n",
      "2023-03-03 15:39:28,461 INFO sqlalchemy.engine.Engine [no key 0.00149s] ()\n",
      "2023-03-03 15:39:28,462 INFO sqlalchemy.engine.Engine CREATE INDEX \"ix_Sales_index\" ON \"Sales\" (\"index\")\n",
      "2023-03-03 15:39:28,464 INFO sqlalchemy.engine.Engine [no key 0.00108s] ()\n",
      "2023-03-03 15:39:28,465 INFO sqlalchemy.engine.Engine COMMIT\n",
      "2023-03-03 15:39:28,471 INFO sqlalchemy.engine.Engine BEGIN (implicit)\n",
      "2023-03-03 15:39:28,528 INFO sqlalchemy.engine.Engine INSERT INTO \"Sales\" (\"index\", \"ORDERNUMBER\", \"QUANTITYORDERED\", \"PRICEEACH\", \"SALES\", \"ORDERDATE\", \"QTR_ID\", \"MONTH_ID\", \"YEAR_ID\", \"PRODUCTLINE\", \"PHONE\", \"ADDRESSLINE1\", \"CITY\", \"STATE\", \"POSTALCODE\", \"COUNTRY\", \"CONTACTLASTNAME\", \"CONTACTFIRSTNAME\") VALUES (?, ?, ?, ?, ?, ?, ?, ?, ?, ?, ?, ?, ?, ?, ?, ?, ?, ?)\n",
      "2023-03-03 15:39:28,531 INFO sqlalchemy.engine.Engine [generated in 0.04638s] [(0, 10107, 30, 95.7, 2871.0, '2/24/2003 0:00', 1, 2, 2003, 'Motorcycles', '2125557818', '897 Long Airport Avenue', 'NYC', 'NY', '10022', 'USA', 'Yu', 'Kwai'), (1, 10121, 34, 81.35, 2765.9, '5/7/2003 0:00', 2, 5, 2003, 'Motorcycles', '26.47.1555', \"59 rue de l'Abbaye\", 'Reims', None, '51100', 'France', 'Henriot', 'Paul'), (2, 10134, 41, 94.74, 3884.34, '7/1/2003 0:00', 3, 7, 2003, 'Motorcycles', '+33 1 46 62 7555', '27 rue du Colonel Pierre Avia', 'Paris', None, '75508', 'France', 'Da Cunha', 'Daniel'), (3, 10145, 45, 83.26, 3746.7, '8/25/2003 0:00', 3, 8, 2003, 'Motorcycles', '6265557265', '78934 Hillside Dr.', 'Pasadena', 'CA', '90003', 'USA', 'Young', 'Julie'), (4, 10159, 49, 100.0, 5205.27, '10/10/2003 0:00', 4, 10, 2003, 'Motorcycles', '6505551386', '7734 Strong St.', 'San Francisco', 'CA', None, 'USA', 'Brown', 'Julie'), (5, 10168, 36, 96.66, 3479.76, '10/28/2003 0:00', 4, 10, 2003, 'Motorcycles', '6505556809', '9408 Furth Circle', 'Burlingame', 'CA', '94217', 'USA', 'Hirano', 'Juri'), (6, 10180, 29, 86.13, 2497.77, '11/11/2003 0:00', 4, 11, 2003, 'Motorcycles', '20.16.1555', '184, chausse de Tournai', 'Lille', None, '59000', 'France', 'Rance', 'Martine'), (7, 10188, 48, 100.0, 5512.32, '11/18/2003 0:00', 4, 11, 2003, 'Motorcycles', '+47 2267 3215', 'Drammen 121, PR 744 Sentrum', 'Bergen', None, 'N 5804', 'Norway', 'Oeztan', 'Veysel')  ... displaying 10 of 2823 total bound parameter sets ...  (2821, 10397, 34, 62.24, 2116.16, '3/28/2005 0:00', 1, 3, 2005, 'Ships', '61.77.6555', '1 rue Alsace-Lorraine', 'Toulouse', None, '31000', 'France', 'Roulet', 'Annette'), (2822, 10414, 47, 65.52, 3079.44, '5/6/2005 0:00', 2, 5, 2005, 'Ships', '6175559555', '8616 Spinnaker Dr.', 'Boston', 'MA', '51003', 'USA', 'Yoshido', 'Juri')]\n",
      "2023-03-03 15:39:28,556 INFO sqlalchemy.engine.Engine COMMIT\n",
      "2023-03-03 15:39:28,559 INFO sqlalchemy.engine.Engine BEGIN (implicit)\n",
      "2023-03-03 15:39:28,560 INFO sqlalchemy.engine.Engine SELECT name FROM sqlite_master WHERE type='table' AND name NOT LIKE 'sqlite~_%' ESCAPE '~' ORDER BY name\n",
      "2023-03-03 15:39:28,560 INFO sqlalchemy.engine.Engine [raw sql] ()\n",
      "2023-03-03 15:39:28,562 INFO sqlalchemy.engine.Engine ROLLBACK\n"
     ]
    }
   ],
   "source": [
    "# Push DataFrame to Temp DB\n",
    "data = df.to_sql(name='Sales',con=temp_db)"
   ]
  },
  {
   "cell_type": "code",
   "execution_count": 9,
   "metadata": {},
   "outputs": [
    {
     "name": "stdout",
     "output_type": "stream",
     "text": [
      "2023-03-03 15:41:40,873 INFO sqlalchemy.engine.Engine BEGIN (implicit)\n",
      "2023-03-03 15:41:40,875 INFO sqlalchemy.engine.Engine SELECT SUM(SALES) FROM Sales\n",
      "2023-03-03 15:41:40,877 INFO sqlalchemy.engine.Engine [generated in 0.00383s] ()\n",
      "2023-03-03 15:41:40,879 INFO sqlalchemy.engine.Engine ROLLBACK\n"
     ]
    }
   ],
   "source": [
    "# Test db wwith a SQL query\n",
    "with temp_db.connect() as conn:\n",
    "    result = conn.execute(text(\"SELECT SUM(SALES) FROM Sales\"))"
   ]
  },
  {
   "cell_type": "code",
   "execution_count": 10,
   "metadata": {},
   "outputs": [
    {
     "data": {
      "text/plain": [
       "[(10032628.85000001,)]"
      ]
     },
     "execution_count": 10,
     "metadata": {},
     "output_type": "execute_result"
    }
   ],
   "source": [
    "result.all()"
   ]
  },
  {
   "cell_type": "code",
   "execution_count": null,
   "metadata": {},
   "outputs": [],
   "source": []
  }
 ],
 "metadata": {
  "kernelspec": {
   "display_name": "obb",
   "language": "python",
   "name": "python3"
  },
  "language_info": {
   "codemirror_mode": {
    "name": "ipython",
    "version": 3
   },
   "file_extension": ".py",
   "mimetype": "text/x-python",
   "name": "python",
   "nbconvert_exporter": "python",
   "pygments_lexer": "ipython3",
   "version": "3.9.6"
  },
  "orig_nbformat": 4,
  "vscode": {
   "interpreter": {
    "hash": "09985152472a613bd29ca818e5a0cc9d50736f36618a1b747bda8400d3f75438"
   }
  }
 },
 "nbformat": 4,
 "nbformat_minor": 2
}
